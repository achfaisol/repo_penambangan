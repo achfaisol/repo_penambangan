{
 "cells": [
  {
   "cell_type": "code",
   "execution_count": 3,
   "metadata": {},
   "outputs": [
    {
     "data": {
      "text/html": [
       "<div>\n",
       "<style scoped>\n",
       "    .dataframe tbody tr th:only-of-type {\n",
       "        vertical-align: middle;\n",
       "    }\n",
       "\n",
       "    .dataframe tbody tr th {\n",
       "        vertical-align: top;\n",
       "    }\n",
       "\n",
       "    .dataframe thead th {\n",
       "        text-align: right;\n",
       "    }\n",
       "</style>\n",
       "<table border=\"1\" class=\"dataframe\">\n",
       "  <thead>\n",
       "    <tr style=\"text-align: right;\">\n",
       "      <th></th>\n",
       "      <th>Stats</th>\n",
       "      <th>X1</th>\n",
       "      <th>X2</th>\n",
       "      <th>X3</th>\n",
       "      <th>X4</th>\n",
       "    </tr>\n",
       "  </thead>\n",
       "  <tbody>\n",
       "    <tr>\n",
       "      <td>0</td>\n",
       "      <td>Min</td>\n",
       "      <td>30.000</td>\n",
       "      <td>30.000</td>\n",
       "      <td>30.000</td>\n",
       "      <td>30.000</td>\n",
       "    </tr>\n",
       "    <tr>\n",
       "      <td>1</td>\n",
       "      <td>Max</td>\n",
       "      <td>600.000</td>\n",
       "      <td>115.000</td>\n",
       "      <td>336.000</td>\n",
       "      <td>145.000</td>\n",
       "    </tr>\n",
       "    <tr>\n",
       "      <td>2</td>\n",
       "      <td>Mean</td>\n",
       "      <td>56.162</td>\n",
       "      <td>53.598</td>\n",
       "      <td>55.596</td>\n",
       "      <td>55.396</td>\n",
       "    </tr>\n",
       "    <tr>\n",
       "      <td>3</td>\n",
       "      <td>Standard Deviasi</td>\n",
       "      <td>30.860</td>\n",
       "      <td>15.320</td>\n",
       "      <td>19.140</td>\n",
       "      <td>15.370</td>\n",
       "    </tr>\n",
       "    <tr>\n",
       "      <td>4</td>\n",
       "      <td>Variasi</td>\n",
       "      <td>952.260</td>\n",
       "      <td>234.810</td>\n",
       "      <td>366.520</td>\n",
       "      <td>236.120</td>\n",
       "    </tr>\n",
       "    <tr>\n",
       "      <td>5</td>\n",
       "      <td>Skewnes</td>\n",
       "      <td>12.270</td>\n",
       "      <td>0.220</td>\n",
       "      <td>6.280</td>\n",
       "      <td>0.470</td>\n",
       "    </tr>\n",
       "    <tr>\n",
       "      <td>6</td>\n",
       "      <td>Quantile 1</td>\n",
       "      <td>42.000</td>\n",
       "      <td>40.000</td>\n",
       "      <td>43.000</td>\n",
       "      <td>43.750</td>\n",
       "    </tr>\n",
       "    <tr>\n",
       "      <td>7</td>\n",
       "      <td>Quantile 2</td>\n",
       "      <td>54.000</td>\n",
       "      <td>52.000</td>\n",
       "      <td>55.000</td>\n",
       "      <td>54.000</td>\n",
       "    </tr>\n",
       "    <tr>\n",
       "      <td>8</td>\n",
       "      <td>Quantile 3</td>\n",
       "      <td>68.000</td>\n",
       "      <td>67.000</td>\n",
       "      <td>67.250</td>\n",
       "      <td>68.000</td>\n",
       "    </tr>\n",
       "    <tr>\n",
       "      <td>9</td>\n",
       "      <td>Median</td>\n",
       "      <td>54.000</td>\n",
       "      <td>52.000</td>\n",
       "      <td>55.000</td>\n",
       "      <td>54.000</td>\n",
       "    </tr>\n",
       "    <tr>\n",
       "      <td>10</td>\n",
       "      <td>Modus</td>\n",
       "      <td>77.000</td>\n",
       "      <td>38.000</td>\n",
       "      <td>38.000</td>\n",
       "      <td>54.000</td>\n",
       "    </tr>\n",
       "  </tbody>\n",
       "</table>\n",
       "</div>"
      ],
      "text/plain": [
       "               Stats       X1       X2       X3       X4\n",
       "0                Min   30.000   30.000   30.000   30.000\n",
       "1                Max  600.000  115.000  336.000  145.000\n",
       "2               Mean   56.162   53.598   55.596   55.396\n",
       "3   Standard Deviasi   30.860   15.320   19.140   15.370\n",
       "4            Variasi  952.260  234.810  366.520  236.120\n",
       "5            Skewnes   12.270    0.220    6.280    0.470\n",
       "6         Quantile 1   42.000   40.000   43.000   43.750\n",
       "7         Quantile 2   54.000   52.000   55.000   54.000\n",
       "8         Quantile 3   68.000   67.000   67.250   68.000\n",
       "9             Median   54.000   52.000   55.000   54.000\n",
       "10             Modus   77.000   38.000   38.000   54.000"
      ]
     },
     "execution_count": 3,
     "metadata": {},
     "output_type": "execute_result"
    }
   ],
   "source": [
    "import pandas as pd\n",
    "from scipy import stats\n",
    "df = pd.read_csv('sample_data_noise.csv', sep=';')\n",
    "data = {\"Stats\" : ['Min','Max','Mean','Standard Deviasi','Variasi','Skewnes',\n",
    "                   'Quantile 1','Quantile 2', 'Quantile 3', 'Median','Modus']}\n",
    "for i in df.columns:\n",
    "    data[i] = [df[i].min(), df[i].max(), df[i].mean(),\n",
    "                round(df[i].std(), 2),round(df[i].var(), 2),\n",
    "                round(df[i].skew(), 2), df[i].quantile(0.25),\n",
    "                df[i].quantile(0.5), df[i].quantile(0.75),\n",
    "                df[i].median(), stats.mode(df[i]).mode[0]]\n",
    "    \n",
    "tes = pd.DataFrame(data, columns = ['Stats'] + [x for x in df.columns])\n",
    "tes"
   ]
  },
  {
   "cell_type": "markdown",
   "metadata": {},
   "source": []
  },
  {
   "cell_type": "code",
   "execution_count": 7,
   "metadata": {},
   "outputs": [
    {
     "name": "stdout",
     "output_type": "stream",
     "text": [
      "Data sampah ( 322 ) dikolom X1 pada baris 453\n",
      "Data sampah ( 600 ) dikolom X1 pada baris 489\n",
      "Data sampah ( 115 ) dikolom X2 pada baris 449\n",
      "Data sampah ( 336 ) dikolom X3 pada baris 406\n",
      "Data sampah ( 145 ) dikolom X4 pada baris 407\n",
      "Data sampah ( 120 ) dikolom X4 pada baris 413\n"
     ]
    }
   ],
   "source": [
    "def dekteksi_outlier(df_in):\n",
    "    outliers = []\n",
    "    threshold = 3\n",
    "    for col_name in df_in:\n",
    "        mean = df_in[col_name].mean()\n",
    "        std = df_in[col_name].std()\n",
    "        i=1\n",
    "        for y in df_in[col_name]:\n",
    "            z_score = (y - mean) / std\n",
    "            if abs(z_score) > threshold:\n",
    "                outliers.append([col_name,y,i])\n",
    "            i+=1\n",
    "    return outliers\n",
    "\n",
    "for i in dekteksi_outlier(df):\n",
    "    print('Data sampah (',i[1],') dikolom',i[0],'pada baris',i[2])"
   ]
  },
  {
   "cell_type": "code",
   "execution_count": 5,
   "metadata": {},
   "outputs": [
    {
     "data": {
      "text/plain": [
       "<Figure size 640x480 with 1 Axes>"
      ]
     },
     "metadata": {},
     "output_type": "display_data"
    }
   ],
   "source": [
    "import matplotlib.pyplot as plt\n",
    "plt.hist(df.values)\n",
    "plt.show()"
   ]
  },
  {
   "cell_type": "code",
   "execution_count": 26,
   "metadata": {},
   "outputs": [
    {
     "name": "stdout",
     "output_type": "stream",
     "text": [
      "(array([11], dtype=int32),)\n"
     ]
    }
   ],
   "source": [
    "import numpy as np\n",
    "\n",
    "z = np.abs(stats.zscore(df['X1']))\n",
    "threshold = 3\n",
    "print(np.where(z > 3))\n",
    "    "
   ]
  },
  {
   "cell_type": "code",
   "execution_count": 4,
   "metadata": {},
   "outputs": [],
   "source": [
    "Q1 = df['X1'].quantile(0.25)\n",
    "Q3 = df['X1'].quantile(0.75)\n",
    "IQR = Q3 - Q1\n",
    "# print (df['X1'] < (Q1 - 1.5 * IQR)) |(df['X1'] > (Q3 + 1.5 * IQR))\n"
   ]
  },
  {
   "cell_type": "code",
   "execution_count": null,
   "metadata": {},
   "outputs": [],
   "source": []
  }
 ],
 "metadata": {
  "kernelspec": {
   "display_name": "Python 3",
   "language": "python",
   "name": "python3"
  },
  "language_info": {
   "codemirror_mode": {
    "name": "ipython",
    "version": 3
   },
   "file_extension": ".py",
   "mimetype": "text/x-python",
   "name": "python",
   "nbconvert_exporter": "python",
   "pygments_lexer": "ipython3",
   "version": "3.7.3"
  }
 },
 "nbformat": 4,
 "nbformat_minor": 2
}
