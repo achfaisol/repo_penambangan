{
 "cells": [
  {
   "cell_type": "code",
   "execution_count": 71,
   "metadata": {
    "scrolled": false
   },
   "outputs": [
    {
     "data": {
      "text/html": [
       "<style  type=\"text/css\" >\n",
       "</style><table id=\"T_425a3c18_da31_11e9_ad74_3c970ed5e952\" ><thead>    <tr>        <th class=\"col_heading level0 col0\" >Nama</th>        <th class=\"col_heading level0 col1\" >Jenis Kelamin</th>        <th class=\"col_heading level0 col2\" >IPK</th>        <th class=\"col_heading level0 col3\" >Penghasilan Orangtua</th>        <th class=\"col_heading level0 col4\" >Alamat</th>        <th class=\"col_heading level0 col5\" >Prestasi</th>    </tr></thead><tbody>\n",
       "                <tr>\n",
       "                                <td id=\"T_425a3c18_da31_11e9_ad74_3c970ed5e952row0_col0\" class=\"data row0 col0\" >Ali</td>\n",
       "                        <td id=\"T_425a3c18_da31_11e9_ad74_3c970ed5e952row0_col1\" class=\"data row0 col1\" >L</td>\n",
       "                        <td id=\"T_425a3c18_da31_11e9_ad74_3c970ed5e952row0_col2\" class=\"data row0 col2\" >3.4</td>\n",
       "                        <td id=\"T_425a3c18_da31_11e9_ad74_3c970ed5e952row0_col3\" class=\"data row0 col3\" >3000000</td>\n",
       "                        <td id=\"T_425a3c18_da31_11e9_ad74_3c970ed5e952row0_col4\" class=\"data row0 col4\" >Sumenep</td>\n",
       "                        <td id=\"T_425a3c18_da31_11e9_ad74_3c970ed5e952row0_col5\" class=\"data row0 col5\" >Internasional</td>\n",
       "            </tr>\n",
       "            <tr>\n",
       "                                <td id=\"T_425a3c18_da31_11e9_ad74_3c970ed5e952row1_col0\" class=\"data row1 col0\" >Ani</td>\n",
       "                        <td id=\"T_425a3c18_da31_11e9_ad74_3c970ed5e952row1_col1\" class=\"data row1 col1\" >P</td>\n",
       "                        <td id=\"T_425a3c18_da31_11e9_ad74_3c970ed5e952row1_col2\" class=\"data row1 col2\" >3.2</td>\n",
       "                        <td id=\"T_425a3c18_da31_11e9_ad74_3c970ed5e952row1_col3\" class=\"data row1 col3\" >5000000</td>\n",
       "                        <td id=\"T_425a3c18_da31_11e9_ad74_3c970ed5e952row1_col4\" class=\"data row1 col4\" >Surabaya</td>\n",
       "                        <td id=\"T_425a3c18_da31_11e9_ad74_3c970ed5e952row1_col5\" class=\"data row1 col5\" >Regional</td>\n",
       "            </tr>\n",
       "            <tr>\n",
       "                                <td id=\"T_425a3c18_da31_11e9_ad74_3c970ed5e952row2_col0\" class=\"data row2 col0\" >Abi</td>\n",
       "                        <td id=\"T_425a3c18_da31_11e9_ad74_3c970ed5e952row2_col1\" class=\"data row2 col1\" >L</td>\n",
       "                        <td id=\"T_425a3c18_da31_11e9_ad74_3c970ed5e952row2_col2\" class=\"data row2 col2\" >3.3</td>\n",
       "                        <td id=\"T_425a3c18_da31_11e9_ad74_3c970ed5e952row2_col3\" class=\"data row2 col3\" >4000000</td>\n",
       "                        <td id=\"T_425a3c18_da31_11e9_ad74_3c970ed5e952row2_col4\" class=\"data row2 col4\" >Bangkalan</td>\n",
       "                        <td id=\"T_425a3c18_da31_11e9_ad74_3c970ed5e952row2_col5\" class=\"data row2 col5\" >Nasional</td>\n",
       "            </tr>\n",
       "    </tbody></table>"
      ],
      "text/plain": [
       "<pandas.io.formats.style.Styler at 0x496a950>"
      ]
     },
     "execution_count": 71,
     "metadata": {},
     "output_type": "execute_result"
    }
   ],
   "source": [
    "import pandas as pd\n",
    "import math as mt\n",
    "from sklearn.preprocessing import LabelEncoder\n",
    "\n",
    "data = pd.read_csv('data-mhs.csv', sep=';')\n",
    "df = pd.DataFrame(data)\n",
    "df.style.hide_index()"
   ]
  },
  {
   "cell_type": "code",
   "execution_count": 72,
   "metadata": {},
   "outputs": [],
   "source": [
    "X = data.iloc[:,:].values\n",
    "labelEncode_X = LabelEncoder()\n",
    "X[:,1] = labelEncode_X.fit_transform(X[:,1])\n",
    "\n",
    "def Zscore(x,mean,std):\n",
    "    top = x - mean\n",
    "    if top==0:\n",
    "        return top\n",
    "    else:\n",
    "        return round(top / std, 2)"
   ]
  },
  {
   "cell_type": "code",
   "execution_count": 73,
   "metadata": {},
   "outputs": [],
   "source": [
    "#menghitung jarak tipe numerikal\n",
    "def euclidianDistance(x,y):\n",
    "    dis = 0\n",
    "    for i in range(len(x)):\n",
    "        dis += (x[i] - y[i]) ** 2\n",
    "    return round(mt.sqrt(dis),2)\n",
    "\n",
    "def normalisasi(num, col_x): \n",
    "    return Zscore(num, pd.Series(data[col_x].values).mean(), pd.Series(data[col_x].values).std())"
   ]
  },
  {
   "cell_type": "code",
   "execution_count": 74,
   "metadata": {},
   "outputs": [],
   "source": [
    "#Menghitung Jarak tipe categorikal\n",
    "def distanceNom(x,y):\n",
    "    p = len(x) or len(y)\n",
    "    m = 0\n",
    "    for i in range(len(x)):\n",
    "        if x[i][0] == y[i][0]:\n",
    "            m +=1\n",
    "    return (p - m) / p\n"
   ]
  },
  {
   "cell_type": "code",
   "execution_count": 75,
   "metadata": {},
   "outputs": [],
   "source": [
    "#Menghitung Jarak tipe ordinal\n",
    "#inisialisasi\n",
    "x = {'Internasional':3,'Nasional':2,'Regional':1}\n",
    "def normalizedOrd(y):\n",
    "    i_max = 0\n",
    "    for i in x:\n",
    "        if x[i] > i_max:\n",
    "            i_max = x[i]\n",
    "        if y[0] == i:\n",
    "            i_val = x[i]\n",
    "    return (i_val - 1) / (i_max - 1)\n",
    "\n"
   ]
  },
  {
   "cell_type": "code",
   "execution_count": 82,
   "metadata": {},
   "outputs": [],
   "source": [
    "#Menghitung jarak tipe binary\n",
    "def distanceSimetris(x,y):\n",
    "    q=r=s=t=0\n",
    "    for i in range(len(x)):\n",
    "        if x[i]==1 and y[i]==1:\n",
    "            q+=1\n",
    "        elif x[i]==1 and y[i]==0:\n",
    "            r+=1\n",
    "        elif x[i]==0 and y[i]==1:\n",
    "            s+=1\n",
    "        elif x[i]==0 and y[i]==0:\n",
    "            t+=1\n",
    "    return ((r+s)/(q+r+s+t))\n",
    "\n",
    "\n",
    "d_x = {\n",
    "    0 : ['', 'Ali', 'Ani', 'Abi'],\n",
    "    1 : ['Ali', 0, '', ''],\n",
    "    2 : ['Ani', '', 0, ''],\n",
    "    3 : ['Abi', '', '', 0]\n",
    "}"
   ]
  },
  {
   "cell_type": "code",
   "execution_count": 83,
   "metadata": {},
   "outputs": [
    {
     "data": {
      "text/html": [
       "<style  type=\"text/css\" >\n",
       "</style><table id=\"T_69246e7e_da31_11e9_b5c3_3c970ed5e952\" ><thead>    <tr>        <th class=\"col_heading level0 col0\" >0</th>        <th class=\"col_heading level0 col1\" >1</th>        <th class=\"col_heading level0 col2\" >2</th>        <th class=\"col_heading level0 col3\" >3</th>    </tr></thead><tbody>\n",
       "                <tr>\n",
       "                                <td id=\"T_69246e7e_da31_11e9_b5c3_3c970ed5e952row0_col0\" class=\"data row0 col0\" ></td>\n",
       "                        <td id=\"T_69246e7e_da31_11e9_b5c3_3c970ed5e952row0_col1\" class=\"data row0 col1\" >Ali</td>\n",
       "                        <td id=\"T_69246e7e_da31_11e9_b5c3_3c970ed5e952row0_col2\" class=\"data row0 col2\" >Ani</td>\n",
       "                        <td id=\"T_69246e7e_da31_11e9_b5c3_3c970ed5e952row0_col3\" class=\"data row0 col3\" >Abi</td>\n",
       "            </tr>\n",
       "            <tr>\n",
       "                                <td id=\"T_69246e7e_da31_11e9_b5c3_3c970ed5e952row1_col0\" class=\"data row1 col0\" >Ali</td>\n",
       "                        <td id=\"T_69246e7e_da31_11e9_b5c3_3c970ed5e952row1_col1\" class=\"data row1 col1\" >0</td>\n",
       "                        <td id=\"T_69246e7e_da31_11e9_b5c3_3c970ed5e952row1_col2\" class=\"data row1 col2\" ></td>\n",
       "                        <td id=\"T_69246e7e_da31_11e9_b5c3_3c970ed5e952row1_col3\" class=\"data row1 col3\" ></td>\n",
       "            </tr>\n",
       "            <tr>\n",
       "                                <td id=\"T_69246e7e_da31_11e9_b5c3_3c970ed5e952row2_col0\" class=\"data row2 col0\" >Ani</td>\n",
       "                        <td id=\"T_69246e7e_da31_11e9_b5c3_3c970ed5e952row2_col1\" class=\"data row2 col1\" >2.83</td>\n",
       "                        <td id=\"T_69246e7e_da31_11e9_b5c3_3c970ed5e952row2_col2\" class=\"data row2 col2\" >0</td>\n",
       "                        <td id=\"T_69246e7e_da31_11e9_b5c3_3c970ed5e952row2_col3\" class=\"data row2 col3\" ></td>\n",
       "            </tr>\n",
       "            <tr>\n",
       "                                <td id=\"T_69246e7e_da31_11e9_b5c3_3c970ed5e952row3_col0\" class=\"data row3 col0\" >Abi</td>\n",
       "                        <td id=\"T_69246e7e_da31_11e9_b5c3_3c970ed5e952row3_col1\" class=\"data row3 col1\" >1.41</td>\n",
       "                        <td id=\"T_69246e7e_da31_11e9_b5c3_3c970ed5e952row3_col2\" class=\"data row3 col2\" >1.41</td>\n",
       "                        <td id=\"T_69246e7e_da31_11e9_b5c3_3c970ed5e952row3_col3\" class=\"data row3 col3\" >0</td>\n",
       "            </tr>\n",
       "    </tbody></table>"
      ],
      "text/plain": [
       "<pandas.io.formats.style.Styler at 0x49b4130>"
      ]
     },
     "execution_count": 83,
     "metadata": {},
     "output_type": "execute_result"
    }
   ],
   "source": [
    "#ambil data numerikal\n",
    "aliNum = df.iloc[0, 2:4].values\n",
    "aniNum = df.iloc[1, 2:4].values\n",
    "abiNum = df.iloc[2, 2:4].values\n",
    "#normalisasi data numerikal\n",
    "aliNum = [normalisasi(aliNum[0], data.columns[2]), normalisasi(aliNum[1], data.columns[3])]\n",
    "aniNum = [normalisasi(aniNum[0], data.columns[2]), normalisasi(aniNum[1], data.columns[3])]\n",
    "abiNum = [normalisasi(abiNum[0], data.columns[2]), normalisasi(abiNum[1], data.columns[3])]\n",
    "\n",
    "d_x[1][2] = euclidianDistance(aniNum,aliNum)\n",
    "d_x[1][3] = euclidianDistance(abiNum,aliNum)\n",
    "d_x[2][3] = euclidianDistance(abiNum,aniNum)\n",
    "\n",
    "d_x = pd.DataFrame(d_x)\n",
    "d_x.style.hide_index()"
   ]
  },
  {
   "cell_type": "code",
   "execution_count": 84,
   "metadata": {},
   "outputs": [
    {
     "data": {
      "text/html": [
       "<style  type=\"text/css\" >\n",
       "</style><table id=\"T_6c3d862c_da31_11e9_835e_3c970ed5e952\" ><thead>    <tr>        <th class=\"col_heading level0 col0\" >0</th>        <th class=\"col_heading level0 col1\" >1</th>        <th class=\"col_heading level0 col2\" >2</th>        <th class=\"col_heading level0 col3\" >3</th>    </tr></thead><tbody>\n",
       "                <tr>\n",
       "                                <td id=\"T_6c3d862c_da31_11e9_835e_3c970ed5e952row0_col0\" class=\"data row0 col0\" ></td>\n",
       "                        <td id=\"T_6c3d862c_da31_11e9_835e_3c970ed5e952row0_col1\" class=\"data row0 col1\" >Ali</td>\n",
       "                        <td id=\"T_6c3d862c_da31_11e9_835e_3c970ed5e952row0_col2\" class=\"data row0 col2\" >Ani</td>\n",
       "                        <td id=\"T_6c3d862c_da31_11e9_835e_3c970ed5e952row0_col3\" class=\"data row0 col3\" >Abi</td>\n",
       "            </tr>\n",
       "            <tr>\n",
       "                                <td id=\"T_6c3d862c_da31_11e9_835e_3c970ed5e952row1_col0\" class=\"data row1 col0\" >Ali</td>\n",
       "                        <td id=\"T_6c3d862c_da31_11e9_835e_3c970ed5e952row1_col1\" class=\"data row1 col1\" >0</td>\n",
       "                        <td id=\"T_6c3d862c_da31_11e9_835e_3c970ed5e952row1_col2\" class=\"data row1 col2\" ></td>\n",
       "                        <td id=\"T_6c3d862c_da31_11e9_835e_3c970ed5e952row1_col3\" class=\"data row1 col3\" ></td>\n",
       "            </tr>\n",
       "            <tr>\n",
       "                                <td id=\"T_6c3d862c_da31_11e9_835e_3c970ed5e952row2_col0\" class=\"data row2 col0\" >Ani</td>\n",
       "                        <td id=\"T_6c3d862c_da31_11e9_835e_3c970ed5e952row2_col1\" class=\"data row2 col1\" >1</td>\n",
       "                        <td id=\"T_6c3d862c_da31_11e9_835e_3c970ed5e952row2_col2\" class=\"data row2 col2\" >0</td>\n",
       "                        <td id=\"T_6c3d862c_da31_11e9_835e_3c970ed5e952row2_col3\" class=\"data row2 col3\" ></td>\n",
       "            </tr>\n",
       "            <tr>\n",
       "                                <td id=\"T_6c3d862c_da31_11e9_835e_3c970ed5e952row3_col0\" class=\"data row3 col0\" >Abi</td>\n",
       "                        <td id=\"T_6c3d862c_da31_11e9_835e_3c970ed5e952row3_col1\" class=\"data row3 col1\" >1</td>\n",
       "                        <td id=\"T_6c3d862c_da31_11e9_835e_3c970ed5e952row3_col2\" class=\"data row3 col2\" >1</td>\n",
       "                        <td id=\"T_6c3d862c_da31_11e9_835e_3c970ed5e952row3_col3\" class=\"data row3 col3\" >0</td>\n",
       "            </tr>\n",
       "    </tbody></table>"
      ],
      "text/plain": [
       "<pandas.io.formats.style.Styler at 0x4999230>"
      ]
     },
     "execution_count": 84,
     "metadata": {},
     "output_type": "execute_result"
    }
   ],
   "source": [
    "#ambil data kategorical\n",
    "aliKat = [df.iloc[0, 4:5].values]\n",
    "aniKat = [df.iloc[1, 4:5].values]\n",
    "abiKat = [df.iloc[2, 4:5].values]\n",
    "\n",
    "d_x[1][2] = distanceNom(aniKat,aliKat)\n",
    "d_x[1][3] = distanceNom(abiKat,aliKat)\n",
    "d_x[2][3] = distanceNom(abiKat,aniKat)\n",
    "\n",
    "d_x = pd.DataFrame(d_x)\n",
    "d_x.style.hide_index()"
   ]
  },
  {
   "cell_type": "code",
   "execution_count": 79,
   "metadata": {},
   "outputs": [
    {
     "data": {
      "text/html": [
       "<style  type=\"text/css\" >\n",
       "</style><table id=\"T_452318a4_da31_11e9_8ec4_3c970ed5e952\" ><thead>    <tr>        <th class=\"col_heading level0 col0\" >0</th>        <th class=\"col_heading level0 col1\" >1</th>        <th class=\"col_heading level0 col2\" >2</th>        <th class=\"col_heading level0 col3\" >3</th>    </tr></thead><tbody>\n",
       "                <tr>\n",
       "                                <td id=\"T_452318a4_da31_11e9_8ec4_3c970ed5e952row0_col0\" class=\"data row0 col0\" ></td>\n",
       "                        <td id=\"T_452318a4_da31_11e9_8ec4_3c970ed5e952row0_col1\" class=\"data row0 col1\" >Ali</td>\n",
       "                        <td id=\"T_452318a4_da31_11e9_8ec4_3c970ed5e952row0_col2\" class=\"data row0 col2\" >Ani</td>\n",
       "                        <td id=\"T_452318a4_da31_11e9_8ec4_3c970ed5e952row0_col3\" class=\"data row0 col3\" >Abi</td>\n",
       "            </tr>\n",
       "            <tr>\n",
       "                                <td id=\"T_452318a4_da31_11e9_8ec4_3c970ed5e952row1_col0\" class=\"data row1 col0\" >Ali</td>\n",
       "                        <td id=\"T_452318a4_da31_11e9_8ec4_3c970ed5e952row1_col1\" class=\"data row1 col1\" >0</td>\n",
       "                        <td id=\"T_452318a4_da31_11e9_8ec4_3c970ed5e952row1_col2\" class=\"data row1 col2\" ></td>\n",
       "                        <td id=\"T_452318a4_da31_11e9_8ec4_3c970ed5e952row1_col3\" class=\"data row1 col3\" ></td>\n",
       "            </tr>\n",
       "            <tr>\n",
       "                                <td id=\"T_452318a4_da31_11e9_8ec4_3c970ed5e952row2_col0\" class=\"data row2 col0\" >Ani</td>\n",
       "                        <td id=\"T_452318a4_da31_11e9_8ec4_3c970ed5e952row2_col1\" class=\"data row2 col1\" >1</td>\n",
       "                        <td id=\"T_452318a4_da31_11e9_8ec4_3c970ed5e952row2_col2\" class=\"data row2 col2\" >0</td>\n",
       "                        <td id=\"T_452318a4_da31_11e9_8ec4_3c970ed5e952row2_col3\" class=\"data row2 col3\" ></td>\n",
       "            </tr>\n",
       "            <tr>\n",
       "                                <td id=\"T_452318a4_da31_11e9_8ec4_3c970ed5e952row3_col0\" class=\"data row3 col0\" >Abi</td>\n",
       "                        <td id=\"T_452318a4_da31_11e9_8ec4_3c970ed5e952row3_col1\" class=\"data row3 col1\" >0</td>\n",
       "                        <td id=\"T_452318a4_da31_11e9_8ec4_3c970ed5e952row3_col2\" class=\"data row3 col2\" >1</td>\n",
       "                        <td id=\"T_452318a4_da31_11e9_8ec4_3c970ed5e952row3_col3\" class=\"data row3 col3\" >0</td>\n",
       "            </tr>\n",
       "    </tbody></table>"
      ],
      "text/plain": [
       "<pandas.io.formats.style.Styler at 0x4955990>"
      ]
     },
     "execution_count": 79,
     "metadata": {},
     "output_type": "execute_result"
    }
   ],
   "source": [
    "#ambil data binary\n",
    "aliBin = X[0, 1:2]\n",
    "aniBin = X[1, 1:2]\n",
    "abiBin = X[2, 1:2]\n",
    "\n",
    "d_x[1][2] = distanceSimetris(aniBin,aliBin)\n",
    "d_x[1][3] = distanceSimetris(abiBin,aliBin)\n",
    "d_x[2][3] = distanceSimetris(abiBin,aniBin)\n",
    "\n",
    "d_x = pd.DataFrame(d_x)\n",
    "d_x.style.hide_index()"
   ]
  },
  {
   "cell_type": "code",
   "execution_count": 85,
   "metadata": {},
   "outputs": [
    {
     "data": {
      "text/html": [
       "<style  type=\"text/css\" >\n",
       "</style><table id=\"T_70a8b0e8_da31_11e9_aa5f_3c970ed5e952\" ><thead>    <tr>        <th class=\"col_heading level0 col0\" >0</th>        <th class=\"col_heading level0 col1\" >1</th>        <th class=\"col_heading level0 col2\" >2</th>        <th class=\"col_heading level0 col3\" >3</th>    </tr></thead><tbody>\n",
       "                <tr>\n",
       "                                <td id=\"T_70a8b0e8_da31_11e9_aa5f_3c970ed5e952row0_col0\" class=\"data row0 col0\" ></td>\n",
       "                        <td id=\"T_70a8b0e8_da31_11e9_aa5f_3c970ed5e952row0_col1\" class=\"data row0 col1\" >Ali</td>\n",
       "                        <td id=\"T_70a8b0e8_da31_11e9_aa5f_3c970ed5e952row0_col2\" class=\"data row0 col2\" >Ani</td>\n",
       "                        <td id=\"T_70a8b0e8_da31_11e9_aa5f_3c970ed5e952row0_col3\" class=\"data row0 col3\" >Abi</td>\n",
       "            </tr>\n",
       "            <tr>\n",
       "                                <td id=\"T_70a8b0e8_da31_11e9_aa5f_3c970ed5e952row1_col0\" class=\"data row1 col0\" >Ali</td>\n",
       "                        <td id=\"T_70a8b0e8_da31_11e9_aa5f_3c970ed5e952row1_col1\" class=\"data row1 col1\" >0</td>\n",
       "                        <td id=\"T_70a8b0e8_da31_11e9_aa5f_3c970ed5e952row1_col2\" class=\"data row1 col2\" ></td>\n",
       "                        <td id=\"T_70a8b0e8_da31_11e9_aa5f_3c970ed5e952row1_col3\" class=\"data row1 col3\" ></td>\n",
       "            </tr>\n",
       "            <tr>\n",
       "                                <td id=\"T_70a8b0e8_da31_11e9_aa5f_3c970ed5e952row2_col0\" class=\"data row2 col0\" >Ani</td>\n",
       "                        <td id=\"T_70a8b0e8_da31_11e9_aa5f_3c970ed5e952row2_col1\" class=\"data row2 col1\" >1</td>\n",
       "                        <td id=\"T_70a8b0e8_da31_11e9_aa5f_3c970ed5e952row2_col2\" class=\"data row2 col2\" >0</td>\n",
       "                        <td id=\"T_70a8b0e8_da31_11e9_aa5f_3c970ed5e952row2_col3\" class=\"data row2 col3\" ></td>\n",
       "            </tr>\n",
       "            <tr>\n",
       "                                <td id=\"T_70a8b0e8_da31_11e9_aa5f_3c970ed5e952row3_col0\" class=\"data row3 col0\" >Abi</td>\n",
       "                        <td id=\"T_70a8b0e8_da31_11e9_aa5f_3c970ed5e952row3_col1\" class=\"data row3 col1\" >0.5</td>\n",
       "                        <td id=\"T_70a8b0e8_da31_11e9_aa5f_3c970ed5e952row3_col2\" class=\"data row3 col2\" >0.5</td>\n",
       "                        <td id=\"T_70a8b0e8_da31_11e9_aa5f_3c970ed5e952row3_col3\" class=\"data row3 col3\" >0</td>\n",
       "            </tr>\n",
       "    </tbody></table>"
      ],
      "text/plain": [
       "<pandas.io.formats.style.Styler at 0x49a5330>"
      ]
     },
     "execution_count": 85,
     "metadata": {},
     "output_type": "execute_result"
    }
   ],
   "source": [
    "#ambil data ordinal\n",
    "aliOrd = [df.iloc[0, 5:6].values]\n",
    "aniOrd = [df.iloc[1, 5:6].values]\n",
    "abiOrd = [df.iloc[2, 5:6].values]\n",
    "\n",
    "d_x[1][2] = euclidianDistance([normalizedOrd(aniOrd)],[normalizedOrd(aliOrd)])\n",
    "d_x[1][3] = euclidianDistance([normalizedOrd(abiOrd)],[normalizedOrd(aliOrd)])\n",
    "d_x[2][3] = euclidianDistance([normalizedOrd(abiOrd)],[normalizedOrd(aniOrd)])\n",
    "\n",
    "d_x = pd.DataFrame(d_x)\n",
    "d_x.style.hide_index()"
   ]
  },
  {
   "cell_type": "code",
   "execution_count": 86,
   "metadata": {},
   "outputs": [
    {
     "data": {
      "text/html": [
       "<style  type=\"text/css\" >\n",
       "</style><table id=\"T_73f74fb8_da31_11e9_8264_3c970ed5e952\" ><thead>    <tr>        <th class=\"col_heading level0 col0\" >0</th>        <th class=\"col_heading level0 col1\" >1</th>        <th class=\"col_heading level0 col2\" >2</th>        <th class=\"col_heading level0 col3\" >3</th>    </tr></thead><tbody>\n",
       "                <tr>\n",
       "                                <td id=\"T_73f74fb8_da31_11e9_8264_3c970ed5e952row0_col0\" class=\"data row0 col0\" ></td>\n",
       "                        <td id=\"T_73f74fb8_da31_11e9_8264_3c970ed5e952row0_col1\" class=\"data row0 col1\" >Ali</td>\n",
       "                        <td id=\"T_73f74fb8_da31_11e9_8264_3c970ed5e952row0_col2\" class=\"data row0 col2\" >Ani</td>\n",
       "                        <td id=\"T_73f74fb8_da31_11e9_8264_3c970ed5e952row0_col3\" class=\"data row0 col3\" >Abi</td>\n",
       "            </tr>\n",
       "            <tr>\n",
       "                                <td id=\"T_73f74fb8_da31_11e9_8264_3c970ed5e952row1_col0\" class=\"data row1 col0\" >Ali</td>\n",
       "                        <td id=\"T_73f74fb8_da31_11e9_8264_3c970ed5e952row1_col1\" class=\"data row1 col1\" >0</td>\n",
       "                        <td id=\"T_73f74fb8_da31_11e9_8264_3c970ed5e952row1_col2\" class=\"data row1 col2\" ></td>\n",
       "                        <td id=\"T_73f74fb8_da31_11e9_8264_3c970ed5e952row1_col3\" class=\"data row1 col3\" ></td>\n",
       "            </tr>\n",
       "            <tr>\n",
       "                                <td id=\"T_73f74fb8_da31_11e9_8264_3c970ed5e952row2_col0\" class=\"data row2 col0\" >Ani</td>\n",
       "                        <td id=\"T_73f74fb8_da31_11e9_8264_3c970ed5e952row2_col1\" class=\"data row2 col1\" >5.83</td>\n",
       "                        <td id=\"T_73f74fb8_da31_11e9_8264_3c970ed5e952row2_col2\" class=\"data row2 col2\" >0</td>\n",
       "                        <td id=\"T_73f74fb8_da31_11e9_8264_3c970ed5e952row2_col3\" class=\"data row2 col3\" ></td>\n",
       "            </tr>\n",
       "            <tr>\n",
       "                                <td id=\"T_73f74fb8_da31_11e9_8264_3c970ed5e952row3_col0\" class=\"data row3 col0\" >Abi</td>\n",
       "                        <td id=\"T_73f74fb8_da31_11e9_8264_3c970ed5e952row3_col1\" class=\"data row3 col1\" >2.91</td>\n",
       "                        <td id=\"T_73f74fb8_da31_11e9_8264_3c970ed5e952row3_col2\" class=\"data row3 col2\" >3.91</td>\n",
       "                        <td id=\"T_73f74fb8_da31_11e9_8264_3c970ed5e952row3_col3\" class=\"data row3 col3\" >0</td>\n",
       "            </tr>\n",
       "    </tbody></table>"
      ],
      "text/plain": [
       "<pandas.io.formats.style.Styler at 0x49b4170>"
      ]
     },
     "execution_count": 86,
     "metadata": {},
     "output_type": "execute_result"
    }
   ],
   "source": [
    "d_x[1][2] = euclidianDistance(aniNum,aliNum) + \\\n",
    "            distanceNom(aniKat,aliKat) + distanceSimetris(aniBin,aliBin) +\\\n",
    "            euclidianDistance([normalizedOrd(aniOrd)],[normalizedOrd(aliOrd)])\n",
    "d_x[1][3] = euclidianDistance(abiNum,aliNum) + \\\n",
    "            distanceNom(abiKat,aliKat) + distanceSimetris(abiBin,aliBin) +\\\n",
    "            euclidianDistance([normalizedOrd(abiOrd)],[normalizedOrd(aliOrd)])\n",
    "d_x[2][3] = euclidianDistance(abiNum,aniNum) + \\\n",
    "            distanceNom(abiKat,aniKat) + distanceSimetris(abiBin,aniBin) +\\\n",
    "            euclidianDistance([normalizedOrd(abiOrd)],[normalizedOrd(aniOrd)])\n",
    "\n",
    "d_x = pd.DataFrame(d_x)\n",
    "d_x.style.hide_index()"
   ]
  },
  {
   "cell_type": "code",
   "execution_count": null,
   "metadata": {},
   "outputs": [],
   "source": []
  },
  {
   "cell_type": "code",
   "execution_count": null,
   "metadata": {},
   "outputs": [],
   "source": []
  }
 ],
 "metadata": {
  "kernelspec": {
   "display_name": "Python 3",
   "language": "python",
   "name": "python3"
  },
  "language_info": {
   "codemirror_mode": {
    "name": "ipython",
    "version": 3
   },
   "file_extension": ".py",
   "mimetype": "text/x-python",
   "name": "python",
   "nbconvert_exporter": "python",
   "pygments_lexer": "ipython3",
   "version": "3.7.3"
  }
 },
 "nbformat": 4,
 "nbformat_minor": 2
}
